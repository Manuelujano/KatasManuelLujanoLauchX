{
 "cells": [
  {
   "cell_type": "markdown",
   "metadata": {},
   "source": [
    "Creación de diccionarios de Python\n",
    "\n",
    "Para este ejercicio, crearás un diccionario que almacene información sobre el planeta Marte."
   ]
  },
  {
   "cell_type": "code",
   "execution_count": 16,
   "metadata": {},
   "outputs": [
    {
     "name": "stdout",
     "output_type": "stream",
     "text": [
      "Planet -- Mars\n",
      "Number of moons -- 2\n",
      "The planet Mars has a polar circumference of 6752 km\n"
     ]
    }
   ],
   "source": [
    "# Crea un diccionario llamado planet con los datos propuestos\n",
    "planet = {\n",
    "    'name':'Mars',\n",
    "    'moon': 2\n",
    "}\n",
    "# Muestra el nombre del planeta y el número de lunas que tiene.\n",
    "\n",
    "print(f\"Planet -- {planet.get('name')}\\nNumber of moons -- {planet.get('moon')}\")\n",
    "# Agrega la clave circunferencia con los datos proporcionados previamente\n",
    "planet['circumference (km)'] = {\n",
    "     'polar': 6752,\n",
    "    'equatorial': 6792\n",
    "}\n",
    "\n",
    "# Imprime el nombre del planeta con su circunferencia polar.\n",
    "print(f\"The planet {planet.get('name')} has a polar circumference of {planet['circumference (km)']['polar']} km\")"
   ]
  },
  {
   "cell_type": "markdown",
   "metadata": {},
   "source": [
    "Programación dinámica con diccionarios\n",
    "\n",
    "En este escenario, calcularás tanto el número total de lunas en el sistema solar como el número promedio de lunas que tiene un planeta. Los diccionarios de Python te permiten recuperar todos los valores y claves utilizando los métodos values y keys, respectivamente. Cada método devuelve una lista que contiene los datos, que luego se puede usar como una lista normal de Python. Puedes determinar el número de elementos mediante len, e iterar a través de él mediante un ciclo for.\n",
    "\n",
    "Agrega el código a continuación para determinar el número de lunas. Comienza almacenando el valor values de planet_moons en una variable denominada moons. A continuación, almacena el número de planetas en una variable denominada planets."
   ]
  },
  {
   "cell_type": "code",
   "execution_count": 17,
   "metadata": {},
   "outputs": [
    {
     "name": "stdout",
     "output_type": "stream",
     "text": [
      "dict_values([0, 0, 1, 2, 79, 82, 27, 14, 5, 2, 1, 1])\n",
      "12\n",
      "214\n",
      "17.833333333333332\n"
     ]
    }
   ],
   "source": [
    "# Planets and moons\n",
    "\n",
    "planet_moons = {\n",
    "    'mercury': 0,\n",
    "    'venus': 0,\n",
    "    'earth': 1,\n",
    "    'mars': 2,\n",
    "    'jupiter': 79,\n",
    "    'saturn': 82,\n",
    "    'uranus': 27,\n",
    "    'neptune': 14,\n",
    "    'pluto': 5,\n",
    "    'haumea': 2,\n",
    "    'makemake': 1,\n",
    "    'eris': 1\n",
    "}\n",
    "# Obtenemos la lista de las lunas\n",
    "# Almacenamos los resultados en una variable moons\n",
    "moons = planet_moons.values()\n",
    "print(moons)\n",
    "# Obtenemos el total de planetas\n",
    "# Almacenamos los resultados en una variable llamada years\n",
    "planets = len(planet_moons)\n",
    "print(planets)\n",
    "# Calcula el total_moons agregando todas las lunas\n",
    "# Almacena su valor en una variable llamada total_moons\n",
    "total_moons = 0\n",
    "for moon in moons:\n",
    "    total_moons = total_moons + moon\n",
    "print(total_moons)\n",
    "media = total_moons/planets\n",
    "print(media)"
   ]
  }
 ],
 "metadata": {
  "interpreter": {
   "hash": "83dcd08f44c8f532f8fe1c6bc169e707a1b693caf6ea1b3a7f826aa02a47feee"
  },
  "kernelspec": {
   "display_name": "Python 3.10.2 64-bit (windows store)",
   "language": "python",
   "name": "python3"
  },
  "language_info": {
   "codemirror_mode": {
    "name": "ipython",
    "version": 3
   },
   "file_extension": ".py",
   "mimetype": "text/x-python",
   "name": "python",
   "nbconvert_exporter": "python",
   "pygments_lexer": "ipython3",
   "version": "3.10.2"
  },
  "orig_nbformat": 4
 },
 "nbformat": 4,
 "nbformat_minor": 2
}
